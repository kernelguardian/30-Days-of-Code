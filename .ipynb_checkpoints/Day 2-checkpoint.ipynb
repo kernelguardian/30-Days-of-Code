{
 "cells": [
  {
   "cell_type": "markdown",
   "metadata": {},
   "source": [
    "# Day 2: Operators"
   ]
  },
  {
   "cell_type": "markdown",
   "metadata": {},
   "source": [
    "# Objective \n",
    "In this challenge, you'll work with arithmetic operators. Check out the Tutorial tab for learning materials and an instructional video!\n",
    "\n",
    "# Task \n",
    "Given the meal price (base cost of a meal), tip percent (the percentage of the meal price being added as tip), and tax percent (the percentage of the meal price being added as tax) for a meal, find and print the meal's total cost.\n",
    "\n",
    "Note: Be sure to use precise values for your calculations, or you may end up with an incorrectly rounded result!\n",
    "\n",
    "# Input Format\n",
    "\n",
    "There are  lines of numeric input: \n",
    "The first line has a double,  (the cost of the meal before tax and tip). \n",
    "The second line has an integer,  (the percentage of  being added as tip). \n",
    "The third line has an integer,  (the percentage of  being added as tax).\n",
    "\n",
    "#  Output Format\n",
    "\n",
    "Print the total meal cost, where  is the rounded integer result of the entire bill ( with added tax and tip).\n",
    "\n",
    "# Sample Input\n",
    "\n",
    "12.00\n",
    "20\n",
    "8\n",
    "# Sample Output\n",
    "\n",
    "15"
   ]
  },
  {
   "cell_type": "code",
   "execution_count": 4,
   "metadata": {},
   "outputs": [
    {
     "name": "stdout",
     "output_type": "stream",
     "text": [
      "12.0\n",
      "20\n",
      "8\n"
     ]
    }
   ],
   "source": [
    "mealcost=float(input())\n",
    "tip_percent=int(input())\n",
    "tax_percent=int(input())"
   ]
  },
  {
   "cell_type": "code",
   "execution_count": 6,
   "metadata": {},
   "outputs": [
    {
     "name": "stdout",
     "output_type": "stream",
     "text": [
      "15\n"
     ]
    }
   ],
   "source": [
    "tip=mealcost*(tip_percent/100)\n",
    "tax=mealcost*(tax_percent/100)\n",
    "totalcost=tip+tax+mealcost\n",
    "print(round(totalcost))"
   ]
  },
  {
   "cell_type": "code",
   "execution_count": 10,
   "metadata": {},
   "outputs": [
    {
     "name": "stdout",
     "output_type": "stream",
     "text": [
      "12\n",
      "8\n",
      "20\n",
      "15\n"
     ]
    }
   ],
   "source": [
    "\n",
    "import math\n",
    "import os\n",
    "import random\n",
    "import re\n",
    "import sys\n",
    "\n",
    "def solve(meal_cost, tip_percent, tax_percent):\n",
    "\n",
    "        tip=meal_cost*(tip_percent/100)\n",
    "        tax=meal_cost*(tax_percent/100)\n",
    "        totalcost=tip+tax+meal_cost\n",
    "        print(round(totalcost))\n",
    "        \n",
    "if __name__ == '__main__':\n",
    "        meal_cost=float(input())\n",
    "        tip_percent=int(input())\n",
    "        tax_percent=int(input())\n",
    "        solve(meal_cost, tip_percent, tax_percent)\n",
    "\n"
   ]
  },
  {
   "cell_type": "code",
   "execution_count": null,
   "metadata": {},
   "outputs": [],
   "source": []
  }
 ],
 "metadata": {
  "kernelspec": {
   "display_name": "Python 3",
   "language": "python",
   "name": "python3"
  },
  "language_info": {
   "codemirror_mode": {
    "name": "ipython",
    "version": 3
   },
   "file_extension": ".py",
   "mimetype": "text/x-python",
   "name": "python",
   "nbconvert_exporter": "python",
   "pygments_lexer": "ipython3",
   "version": "3.7.3"
  }
 },
 "nbformat": 4,
 "nbformat_minor": 2
}
