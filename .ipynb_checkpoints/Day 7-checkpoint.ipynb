{
 "cells": [
  {
   "cell_type": "markdown",
   "metadata": {},
   "source": [
    "# Day 7: Arrays"
   ]
  },
  {
   "cell_type": "markdown",
   "metadata": {},
   "source": [
    "Objective \n",
    "Today, we're learning about the Array data structure. Check out the Tutorial tab for learning materials and an instructional video!\n",
    "\n",
    "Task \n",
    "Given an array, , of  integers, print 's elements in reverse order as a single line of space-separated numbers.\n",
    "\n",
    "Input Format\n",
    "\n",
    "The first line contains an integer,  (the size of our array). \n",
    "The second line contains  space-separated integers describing array 's elements.\n",
    "\n",
    "Constraints\n",
    "\n",
    ", where  is the  integer in the array.\n",
    "Output Format\n",
    "\n",
    "Print the elements of array  in reverse order as a single line of space-separated numbers.\n",
    "\n",
    "Sample Input\n",
    "\n",
    "4\n",
    "1 4 3 2\n",
    "Sample Output\n",
    "\n",
    "2 3 4 1"
   ]
  },
  {
   "cell_type": "code",
   "execution_count": 13,
   "metadata": {},
   "outputs": [
    {
     "name": "stdout",
     "output_type": "stream",
     "text": [
      "5 \n",
      "1 2 3 4 5 \n",
      "5 4 3 2 1 "
     ]
    }
   ],
   "source": [
    "#!/bin/python3\n",
    "\n",
    "import math\n",
    "import os\n",
    "import random\n",
    "import re\n",
    "import sys\n",
    "\n",
    "\n",
    "\n",
    "if __name__ == '__main__':\n",
    "    n = int(input())\n",
    "\n",
    "    arr = list(map(int, input().rstrip().split()))\n",
    "    arr.reverse()\n",
    "    for i in range(0,len(arr)):\n",
    "        print(arr[i],end=' ')"
   ]
  }
 ],
 "metadata": {
  "kernelspec": {
   "display_name": "Python 3",
   "language": "python",
   "name": "python3"
  },
  "language_info": {
   "codemirror_mode": {
    "name": "ipython",
    "version": 3
   },
   "file_extension": ".py",
   "mimetype": "text/x-python",
   "name": "python",
   "nbconvert_exporter": "python",
   "pygments_lexer": "ipython3",
   "version": "3.7.3"
  }
 },
 "nbformat": 4,
 "nbformat_minor": 2
}
