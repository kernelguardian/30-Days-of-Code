{
  "cells": [
    {
      "cell_type": "markdown",
      "metadata": {
        "id": "view-in-github",
        "colab_type": "text"
      },
      "source": [
        "<a href=\"https://colab.research.google.com/github/kernelguardian/30-Days-of-Code/blob/master/DQN_CartPole.ipynb\" target=\"_parent\"><img src=\"https://colab.research.google.com/assets/colab-badge.svg\" alt=\"Open In Colab\"/></a>"
      ]
    },
    {
      "cell_type": "markdown",
      "metadata": {
        "id": "pmDI-h7cI0tI"
      },
      "source": [
        "# Train a Deep Q Network with TF-Agents for CartPole Game - Single Agent"
      ]
    },
    {
      "cell_type": "markdown",
      "metadata": {
        "id": "lsaQlK8fFQqH"
      },
      "source": [
        "## Introduction\n"
      ]
    },
    {
      "cell_type": "markdown",
      "metadata": {
        "id": "cKOCZlhUgXVK"
      },
      "source": [
        "\n",
        "Cartpole is a classic game that you play by balancing a pole on a moving cart. The goal is to keep the pole from falling by moving the cart left or right. It's often used to test how well computer programs can learn to play the game on their own. You win if you can balance the pole for a long time, but you lose if the pole falls.\n"
      ]
    },
    {
      "cell_type": "markdown",
      "metadata": {
        "id": "1u9QVVsShC9X"
      },
      "source": [
        "## Setup"
      ]
    },
    {
      "cell_type": "markdown",
      "metadata": {
        "id": "kNrNXKI7bINP"
      },
      "source": [
        "\n",
        "**Dependency Installation**\n",
        "\n",
        "I tried to setup  gymnasium and DQN but since my system is an M1 Mac with arm architecture, most of the packages are not supported. Also the libraries are not well maintained for many examples. Hence TF-Agents seemed like a viable option for setting everything up.\n"
      ]
    },
    {
      "cell_type": "code",
      "execution_count": null,
      "metadata": {
        "id": "KEHR2Ui-lo8O"
      },
      "outputs": [],
      "source": [
        "!sudo apt-get update\n",
        "!sudo apt-get install -y xvfb ffmpeg freeglut3-dev\n",
        "!pip install 'imageio==2.4.0'\n",
        "!pip install pyvirtualdisplay\n",
        "!pip install tf-agents[reverb]\n",
        "!pip install pyglet"
      ]
    },
    {
      "cell_type": "code",
      "execution_count": 87,
      "metadata": {
        "id": "sMitx5qSgJk1"
      },
      "outputs": [],
      "source": [
        "from __future__ import absolute_import, division, print_function\n",
        "\n",
        "import base64\n",
        "import imageio\n",
        "import IPython\n",
        "import matplotlib\n",
        "import matplotlib.pyplot as plt\n",
        "import numpy as np\n",
        "import PIL.Image\n",
        "import pyvirtualdisplay\n",
        "import reverb\n",
        "\n",
        "import tensorflow as tf\n",
        "\n",
        "from tf_agents.agents.dqn import dqn_agent\n",
        "from tf_agents.drivers import py_driver\n",
        "from tf_agents.environments import suite_gym\n",
        "from tf_agents.environments import tf_py_environment\n",
        "from tf_agents.eval import metric_utils\n",
        "from tf_agents.metrics import tf_metrics\n",
        "from tf_agents.networks import sequential\n",
        "from tf_agents.policies import py_tf_eager_policy\n",
        "from tf_agents.policies import random_tf_policy\n",
        "from tf_agents.replay_buffers import reverb_replay_buffer\n",
        "from tf_agents.replay_buffers import reverb_utils\n",
        "from tf_agents.trajectories import trajectory\n",
        "from tf_agents.specs import tensor_spec\n",
        "from tf_agents.utils import common"
      ]
    },
    {
      "cell_type": "code",
      "execution_count": 88,
      "metadata": {
        "id": "J6HsdS5GbSjd"
      },
      "outputs": [],
      "source": [
        "# Set up a virtual display for rendering OpenAI gym environments.\n",
        "display = pyvirtualdisplay.Display(visible=0, size=(1400, 900)).start()"
      ]
    },
    {
      "cell_type": "code",
      "execution_count": 89,
      "metadata": {
        "colab": {
          "base_uri": "https://localhost:8080/",
          "height": 35
        },
        "id": "NspmzG4nP3b9",
        "outputId": "81212e57-1daf-428c-8dcb-f140af3d14ec"
      },
      "outputs": [
        {
          "output_type": "execute_result",
          "data": {
            "text/plain": [
              "'2.12.0'"
            ],
            "application/vnd.google.colaboratory.intrinsic+json": {
              "type": "string"
            }
          },
          "metadata": {},
          "execution_count": 89
        }
      ],
      "source": [
        "tf.version.VERSION"
      ]
    },
    {
      "cell_type": "markdown",
      "metadata": {
        "id": "LmC0NDhdLIKY"
      },
      "source": [
        "## Hyperparameters"
      ]
    },
    {
      "cell_type": "code",
      "execution_count": 90,
      "metadata": {
        "id": "HC1kNrOsLSIZ"
      },
      "outputs": [],
      "source": [
        "num_iterations = 20000 # @param {type:\"integer\"}\n",
        "\n",
        "initial_collect_steps = 100  # @param {type:\"integer\"}\n",
        "collect_steps_per_iteration =   1# @param {type:\"integer\"}\n",
        "replay_buffer_max_length = 100000  # @param {type:\"integer\"}\n",
        "\n",
        "batch_size = 64  # @param {type:\"integer\"}\n",
        "learning_rate = 1e-3  # @param {type:\"number\"}\n",
        "log_interval = 200  # @param {type:\"integer\"}\n",
        "\n",
        "num_eval_episodes = 10  # @param {type:\"integer\"}\n",
        "eval_interval = 1000  # @param {type:\"integer\"}"
      ]
    },
    {
      "cell_type": "markdown",
      "metadata": {
        "id": "VMsJC3DEgI0x"
      },
      "source": [
        "## Environment\n",
        "TF-Agents provide direct access to most of the environments from GYM, Atari and many others. "
      ]
    },
    {
      "cell_type": "code",
      "execution_count": 91,
      "metadata": {
        "id": "pYEz-S9gEv2-"
      },
      "outputs": [],
      "source": [
        "env_name = 'CartPole-v0'\n",
        "env = suite_gym.load(env_name)"
      ]
    },
    {
      "cell_type": "markdown",
      "metadata": {
        "id": "IIHYVBkuvPNw"
      },
      "source": [
        "The code below renders the environment, This has a cart with a free standing pole upright attached to it. The pole can either go left or right. The goal is to keep the pole upright by moving the cart left or right."
      ]
    },
    {
      "cell_type": "code",
      "execution_count": 92,
      "metadata": {
        "colab": {
          "base_uri": "https://localhost:8080/",
          "height": 417
        },
        "id": "RlO7WIQHu_7D",
        "outputId": "652296e7-1b72-444a-8825-b9350a2e9035"
      },
      "outputs": [
        {
          "output_type": "execute_result",
          "data": {
            "text/plain": [
              "<PIL.Image.Image image mode=RGB size=600x400 at 0x7FFAAF5DE9D0>"
            ],
            "image/png": "[encoded data removed]"
          },
          "metadata": {},
          "execution_count": 92
        }
      ],
      "source": [
        "env.reset()\n",
        "PIL.Image.fromarray(env.render())"
      ]
    },
    {
      "cell_type": "markdown",
      "metadata": {
        "id": "B9_lskPOey18"
      },
      "source": [
        "The `environment.step` method takes an `action` in the environment and returns a `TimeStep` tuple containing the next observation of the environment and the reward for the action.\n",
        "\n",
        "The `time_step_spec()` method returns the specification for the `TimeStep` tuple. Its `observation` attribute shows the shape of observations, the data types, and the ranges of allowed values. The `reward` attribute shows the same details for the reward.\n"
      ]
    },
    {
      "cell_type": "code",
      "execution_count": 93,
      "metadata": {
        "colab": {
          "base_uri": "https://localhost:8080/"
        },
        "id": "exDv57iHfwQV",
        "outputId": "88312ed7-1a10-42f9-a292-d932a2deaa4a"
      },
      "outputs": [
        {
          "output_type": "stream",
          "name": "stdout",
          "text": [
            "Observation Spec:\n",
            "BoundedArraySpec(shape=(4,), dtype=dtype('float32'), name='observation', minimum=[-4.8000002e+00 -3.4028235e+38 -4.1887903e-01 -3.4028235e+38], maximum=[4.8000002e+00 3.4028235e+38 4.1887903e-01 3.4028235e+38])\n"
          ]
        }
      ],
      "source": [
        "print('Observation Spec:')\n",
        "print(env.time_step_spec().observation)"
      ]
    },
    {
      "cell_type": "code",
      "execution_count": 94,
      "metadata": {
        "colab": {
          "base_uri": "https://localhost:8080/"
        },
        "id": "UxiSyCbBUQPi",
        "outputId": "fb47246a-0683-4181-bb88-8935487f997d"
      },
      "outputs": [
        {
          "output_type": "stream",
          "name": "stdout",
          "text": [
            "Reward Spec:\n",
            "ArraySpec(shape=(), dtype=dtype('float32'), name='reward')\n"
          ]
        }
      ],
      "source": [
        "print('Reward Spec:')\n",
        "print(env.time_step_spec().reward)"
      ]
    },
    {
      "cell_type": "markdown",
      "metadata": {
        "id": "b_lHcIcqUaqB"
      },
      "source": [
        "The `action_spec()` method returns the shape, data types, and allowed values of valid actions."
      ]
    },
    {
      "cell_type": "code",
      "execution_count": 95,
      "metadata": {
        "colab": {
          "base_uri": "https://localhost:8080/"
        },
        "id": "bttJ4uxZUQBr",
        "outputId": "9b8bc054-048b-40c1-b794-459a73276416"
      },
      "outputs": [
        {
          "output_type": "stream",
          "name": "stdout",
          "text": [
            "Action Spec:\n",
            "BoundedArraySpec(shape=(), dtype=dtype('int64'), name='action', minimum=0, maximum=1)\n"
          ]
        }
      ],
      "source": [
        "print('Action Spec:')\n",
        "print(env.action_spec())"
      ]
    },
    {
      "cell_type": "markdown",
      "metadata": {
        "id": "eJCgJnx3g0yY"
      },
      "source": [
        "In the Cartpole environment:\n",
        "\n",
        "-   `observation` is an array of 4 floats: \n",
        "    -   the position and velocity of the cart\n",
        "    -   the angular position and velocity of the pole \n",
        "-   `reward` is a scalar float value\n",
        "-   `action` is a scalar integer with only two possible values:\n",
        "    -   `0` — \"move left\"\n",
        "    -   `1` — \"move right\"\n"
      ]
    },
    {
      "cell_type": "code",
      "execution_count": 96,
      "metadata": {
        "colab": {
          "base_uri": "https://localhost:8080/"
        },
        "id": "V2UGR5t_iZX-",
        "outputId": "84671d97-c334-4e0d-ae65-d53f420d20ff"
      },
      "outputs": [
        {
          "output_type": "stream",
          "name": "stdout",
          "text": [
            "Time step:\n",
            "TimeStep(\n",
            "{'discount': array(1., dtype=float32),\n",
            " 'observation': array([ 0.03780471,  0.01665135, -0.02070065, -0.02477387], dtype=float32),\n",
            " 'reward': array(0., dtype=float32),\n",
            " 'step_type': array(0, dtype=int32)})\n",
            "Next time step:\n",
            "TimeStep(\n",
            "{'discount': array(1., dtype=float32),\n",
            " 'observation': array([ 0.03813774,  0.21206395, -0.02119613, -0.32391554], dtype=float32),\n",
            " 'reward': array(1., dtype=float32),\n",
            " 'step_type': array(1, dtype=int32)})\n"
          ]
        }
      ],
      "source": [
        "time_step = env.reset()\n",
        "print('Time step:')\n",
        "print(time_step)\n",
        "\n",
        "action = np.array(1, dtype=np.int32)\n",
        "\n",
        "next_time_step = env.step(action)\n",
        "print('Next time step:')\n",
        "print(next_time_step)"
      ]
    },
    {
      "cell_type": "markdown",
      "metadata": {
        "id": "4JSc9GviWUBK"
      },
      "source": [
        "Usually two environments are created: one for training and one for evaluation. "
      ]
    },
    {
      "cell_type": "code",
      "execution_count": 97,
      "metadata": {
        "id": "N7brXNIGWXjC"
      },
      "outputs": [],
      "source": [
        "train_py_env = suite_gym.load(env_name)\n",
        "eval_py_env = suite_gym.load(env_name)"
      ]
    },
    {
      "cell_type": "markdown",
      "metadata": {
        "id": "zuUqXAVmecTU"
      },
      "source": [
        "The cartpole env\n"
      ]
    },
    {
      "cell_type": "code",
      "execution_count": 98,
      "metadata": {
        "id": "Xp-Y4mD6eDhF"
      },
      "outputs": [],
      "source": [
        "train_env = tf_py_environment.TFPyEnvironment(train_py_env)\n",
        "eval_env = tf_py_environment.TFPyEnvironment(eval_py_env)"
      ]
    },
    {
      "cell_type": "markdown",
      "metadata": {
        "id": "E9lW_OZYFR8A"
      },
      "source": [
        "## Agent\n",
        "\n",
        "The algorithm used to solve an RL problem is represented by an `Agent`. TF-Agents provide a lot of implementations like DQN, REINFORCE, DDPG,SAC\n",
        "\n",
        "\n",
        "The DQN agent can be used in any environment which has a discrete action space.\n",
        "\n",
        "The main part of DQN Agent `QNetwork`, a neural network model that can learn to predict `QValues` (expected returns) for all actions, given an observation from the environment.\n",
        "\n",
        "We can use the tf_agents.networks to create the QNetwork. This is made up of sequence of Dense layers. The final layer will give 1 output for each possible action.\n",
        "\n",
        "\n",
        "The following code defines the QNetwork. This is a standard implementation from Tensorflow tutorials."
      ]
    },
    {
      "cell_type": "code",
      "execution_count": 99,
      "metadata": {
        "id": "TgkdEPg_muzV"
      },
      "outputs": [],
      "source": [
        "fc_layer_params = (100, 50)\n",
        "action_tensor_spec = tensor_spec.from_spec(env.action_spec())\n",
        "num_actions = action_tensor_spec.maximum - action_tensor_spec.minimum + 1\n",
        "\n",
        "# Define a helper function to create Dense layers configured with the right\n",
        "# activation and kernel initializer.\n",
        "def dense_layer(num_units):\n",
        "  return tf.keras.layers.Dense(\n",
        "      num_units,\n",
        "      activation=tf.keras.activations.relu,\n",
        "      kernel_initializer=tf.keras.initializers.VarianceScaling(\n",
        "          scale=2.0, mode='fan_in', distribution='truncated_normal'))\n",
        "\n",
        "# QNetwork consists of a sequence of Dense layers followed by a dense layer\n",
        "# with `num_actions` units to generate one q_value per available action as\n",
        "# its output.\n",
        "dense_layers = [dense_layer(num_units) for num_units in fc_layer_params]\n",
        "q_values_layer = tf.keras.layers.Dense(\n",
        "    num_actions,\n",
        "    activation=None,\n",
        "    kernel_initializer=tf.keras.initializers.RandomUniform(\n",
        "        minval=-0.03, maxval=0.03),\n",
        "    bias_initializer=tf.keras.initializers.Constant(-0.2))\n",
        "q_net = sequential.Sequential(dense_layers + [q_values_layer])"
      ]
    },
    {
      "cell_type": "markdown",
      "metadata": {
        "id": "z62u55hSmviJ"
      },
      "source": [
        "We will now initialize the an instance of DqnAgent. It can be done by passing time_step_spec, action_spec, QNetwork, AdamOptimizer, loss function, and an integer step counter."
      ]
    },
    {
      "cell_type": "code",
      "execution_count": 100,
      "metadata": {
        "id": "jbY4yrjTEyc9"
      },
      "outputs": [],
      "source": [
        "optimizer = tf.keras.optimizers.Adam(learning_rate=learning_rate)\n",
        "\n",
        "train_step_counter = tf.Variable(0)\n",
        "\n",
        "agent = dqn_agent.DqnAgent(\n",
        "    train_env.time_step_spec(),\n",
        "    train_env.action_spec(),\n",
        "    q_network=q_net,\n",
        "    optimizer=optimizer,\n",
        "    td_errors_loss_fn=common.element_wise_squared_loss,\n",
        "    train_step_counter=train_step_counter)\n",
        "\n",
        "agent.initialize()"
      ]
    },
    {
      "cell_type": "markdown",
      "metadata": {
        "id": "I0KLrEPwkn5x"
      },
      "source": [
        "## Policies\n",
        "\n",
        "A policy defines the way an agent acts in an environment. The goal of RL is to train the model until the policy gives a good result.\n",
        "-   The goal is to keep the pole balanced upright over the cart.\n",
        "-   The policy returns an action (left or right) for each `time_step`.\n",
        "\n",
        "Agents contain two policies: \n",
        "-   `agent.policy` — The policy that is used for evaluation and deployment.\n",
        "-   `agent.collect_policy` — A second policy that is used for data collection.\n"
      ]
    },
    {
      "cell_type": "code",
      "execution_count": 101,
      "metadata": {
        "id": "BwY7StuMkuV4"
      },
      "outputs": [],
      "source": [
        "eval_policy = agent.policy\n",
        "collect_policy = agent.collect_policy"
      ]
    },
    {
      "cell_type": "markdown",
      "metadata": {
        "id": "2Qs1Fl3dV0ae"
      },
      "source": [
        "We use `tf_agents.policies.random_tf_policy` to create a policy which will randomly select an action for each `time_step`."
      ]
    },
    {
      "cell_type": "code",
      "execution_count": null,
      "metadata": {
        "id": "HE37-UCIrE69"
      },
      "outputs": [],
      "source": [
        "random_policy = random_tf_policy.RandomTFPolicy(train_env.time_step_spec(),\n",
        "                                                train_env.action_spec())"
      ]
    },
    {
      "cell_type": "markdown",
      "metadata": {
        "id": "dOlnlRRsUbxP"
      },
      "source": [
        "To get an action from a policy, call the `policy.action(time_step)` method. The `time_step` contains the observation from the environment. This method returns a `PolicyStep`, which is a named tuple with three components:\n",
        "\n",
        "-   `action` — the action to be taken (in this case, `0` or `1`)\n",
        "-   `state` — used for stateful (that is, RNN-based) policies\n",
        "-   `info` — auxiliary data, such as log probabilities of actions"
      ]
    },
    {
      "cell_type": "code",
      "execution_count": null,
      "metadata": {
        "id": "5gCcpXswVAxk"
      },
      "outputs": [],
      "source": [
        "example_environment = tf_py_environment.TFPyEnvironment(\n",
        "    suite_gym.load('CartPole-v0'))"
      ]
    },
    {
      "cell_type": "code",
      "execution_count": null,
      "metadata": {
        "id": "D4DHZtq3Ndis"
      },
      "outputs": [],
      "source": [
        "time_step = example_environment.reset()"
      ]
    },
    {
      "cell_type": "code",
      "execution_count": null,
      "metadata": {
        "colab": {
          "base_uri": "https://localhost:8080/"
        },
        "id": "PRFqAUzpNaAW",
        "outputId": "14169186-6684-4294-eeb4-00a032c42afc"
      },
      "outputs": [
        {
          "data": {
            "text/plain": [
              "PolicyStep(action=<tf.Tensor: shape=(1,), dtype=int64, numpy=array([0])>, state=(), info=())"
            ]
          },
          "execution_count": 64,
          "metadata": {},
          "output_type": "execute_result"
        }
      ],
      "source": [
        "random_policy.action(time_step)"
      ]
    },
    {
      "cell_type": "markdown",
      "metadata": {
        "id": "94rCXQtbUbXv"
      },
      "source": [
        "## Metrics and Evaluation\n",
        "\n",
        "The most common metric used to evaluate a policy is the average return.\n",
        "\n",
        "The following function computes the average return of a policy, given the policy, environment, and a number of episodes.\n"
      ]
    },
    {
      "cell_type": "code",
      "execution_count": null,
      "metadata": {
        "id": "bitzHo5_UbXy"
      },
      "outputs": [],
      "source": [
        "def compute_avg_return(environment, policy, num_episodes=10):\n",
        "\n",
        "  total_return = 0.0\n",
        "  for _ in range(num_episodes):\n",
        "\n",
        "    time_step = environment.reset()\n",
        "    episode_return = 0.0\n",
        "\n",
        "    while not time_step.is_last():\n",
        "      action_step = policy.action(time_step)\n",
        "      time_step = environment.step(action_step.action)\n",
        "      episode_return += time_step.reward\n",
        "    total_return += episode_return\n",
        "\n",
        "  avg_return = total_return / num_episodes\n",
        "  return avg_return.numpy()[0]\n"
      ]
    },
    {
      "cell_type": "markdown",
      "metadata": {
        "id": "_snCVvq5Z8lJ"
      },
      "source": [
        "Perfomance of `random_policy` computed using average return"
      ]
    },
    {
      "cell_type": "code",
      "execution_count": null,
      "metadata": {
        "colab": {
          "base_uri": "https://localhost:8080/"
        },
        "id": "9bgU6Q6BZ8Bp",
        "outputId": "0ec131bd-4d20-45d6-d2e8-080e0e777057"
      },
      "outputs": [
        {
          "data": {
            "text/plain": [
              "26.0"
            ]
          },
          "execution_count": 34,
          "metadata": {},
          "output_type": "execute_result"
        }
      ],
      "source": [
        "compute_avg_return(eval_env, random_policy, num_eval_episodes)"
      ]
    },
    {
      "cell_type": "markdown",
      "metadata": {
        "id": "NLva6g2jdWgr"
      },
      "source": [
        "## Replay Buffer\n",
        "We will be using DeepMind's Reverb library to keep track of data collected from the environment. "
      ]
    },
    {
      "cell_type": "code",
      "execution_count": null,
      "metadata": {
        "id": "vX2zGUWJGWAl"
      },
      "outputs": [],
      "source": [
        "table_name = 'uniform_table'\n",
        "replay_buffer_signature = tensor_spec.from_spec(\n",
        "      agent.collect_data_spec)\n",
        "replay_buffer_signature = tensor_spec.add_outer_dim(\n",
        "    replay_buffer_signature)\n",
        "\n",
        "table = reverb.Table(\n",
        "    table_name,\n",
        "    max_size=replay_buffer_max_length,\n",
        "    sampler=reverb.selectors.Uniform(),\n",
        "    remover=reverb.selectors.Fifo(),\n",
        "    rate_limiter=reverb.rate_limiters.MinSize(1),\n",
        "    signature=replay_buffer_signature)\n",
        "\n",
        "reverb_server = reverb.Server([table])\n",
        "\n",
        "replay_buffer = reverb_replay_buffer.ReverbReplayBuffer(\n",
        "    agent.collect_data_spec,\n",
        "    table_name=table_name,\n",
        "    sequence_length=2,\n",
        "    local_server=reverb_server)\n",
        "\n",
        "rb_observer = reverb_utils.ReverbAddTrajectoryObserver(\n",
        "  replay_buffer.py_client,\n",
        "  table_name,\n",
        "  sequence_length=2)"
      ]
    },
    {
      "cell_type": "markdown",
      "metadata": {
        "id": "ZGNTDJpZs4NN"
      },
      "source": [
        "For most agents, `collect_data_spec` is a named tuple called `Trajectory`, containing the specs for observations, actions, rewards, and other items."
      ]
    },
    {
      "cell_type": "code",
      "execution_count": null,
      "metadata": {
        "colab": {
          "base_uri": "https://localhost:8080/"
        },
        "id": "_IZ-3HcqgE1z",
        "outputId": "7f087575-eed3-4fab-ed7a-e0934a252389"
      },
      "outputs": [
        {
          "data": {
            "text/plain": [
              "Trajectory(\n",
              "{'action': BoundedTensorSpec(shape=(), dtype=tf.int64, name='action', minimum=array(0), maximum=array(1)),\n",
              " 'discount': BoundedTensorSpec(shape=(), dtype=tf.float32, name='discount', minimum=array(0., dtype=float32), maximum=array(1., dtype=float32)),\n",
              " 'next_step_type': TensorSpec(shape=(), dtype=tf.int32, name='step_type'),\n",
              " 'observation': BoundedTensorSpec(shape=(4,), dtype=tf.float32, name='observation', minimum=array([-4.8000002e+00, -3.4028235e+38, -4.1887903e-01, -3.4028235e+38],\n",
              "      dtype=float32), maximum=array([4.8000002e+00, 3.4028235e+38, 4.1887903e-01, 3.4028235e+38],\n",
              "      dtype=float32)),\n",
              " 'policy_info': (),\n",
              " 'reward': TensorSpec(shape=(), dtype=tf.float32, name='reward'),\n",
              " 'step_type': TensorSpec(shape=(), dtype=tf.int32, name='step_type')})"
            ]
          },
          "execution_count": 36,
          "metadata": {},
          "output_type": "execute_result"
        }
      ],
      "source": [
        "agent.collect_data_spec"
      ]
    },
    {
      "cell_type": "code",
      "execution_count": null,
      "metadata": {
        "colab": {
          "base_uri": "https://localhost:8080/"
        },
        "id": "sy6g1tGcfRlw",
        "outputId": "8b446434-a926-42b2-b098-868ecaf1b7c3"
      },
      "outputs": [
        {
          "data": {
            "text/plain": [
              "('step_type',\n",
              " 'observation',\n",
              " 'action',\n",
              " 'policy_info',\n",
              " 'next_step_type',\n",
              " 'reward',\n",
              " 'discount')"
            ]
          },
          "execution_count": 37,
          "metadata": {},
          "output_type": "execute_result"
        }
      ],
      "source": [
        "agent.collect_data_spec._fields"
      ]
    },
    {
      "cell_type": "markdown",
      "metadata": {
        "id": "rVD5nQ9ZGo8_"
      },
      "source": [
        "## Data Collection\n",
        "\n",
        "Now execute the random policy in the environment for a few steps, recording the data in the replay buffer.\n",
        "We use PyDriver to loop and collect data, because using PyDriver is much more easier to code and debug."
      ]
    },
    {
      "cell_type": "code",
      "execution_count": null,
      "metadata": {
        "colab": {
          "base_uri": "https://localhost:8080/"
        },
        "id": "wr1KSAEGG4h9",
        "outputId": "b20cdfb5-aaab-4eb6-9e71-fd6531c72cd7"
      },
      "outputs": [
        {
          "data": {
            "text/plain": [
              "(TimeStep(\n",
              " {'discount': array(1., dtype=float32),\n",
              "  'observation': array([ 0.02161742, -0.43497726, -0.04564797,  0.49870896], dtype=float32),\n",
              "  'reward': array(1., dtype=float32),\n",
              "  'step_type': array(1, dtype=int32)}),\n",
              " ())"
            ]
          },
          "execution_count": 38,
          "metadata": {},
          "output_type": "execute_result"
        }
      ],
      "source": [
        "py_driver.PyDriver(\n",
        "    env,\n",
        "    py_tf_eager_policy.PyTFEagerPolicy(\n",
        "      random_policy, use_tf_function=True),\n",
        "    [rb_observer],\n",
        "    max_steps=initial_collect_steps).run(train_py_env.reset())"
      ]
    },
    {
      "cell_type": "markdown",
      "metadata": {
        "id": "TujU-PMUsKjS"
      },
      "source": [
        "The agent needs access to the replay buffer. This is provided by creating an iterable `tf.data.Dataset` pipeline which will feed data to the agent.\n",
        "\n",
        "Each row of the replay buffer only stores a single observation step. But since the DQN Agent needs both the current and next observation to compute the loss, the dataset pipeline will sample two adjacent rows for each item in the batch (`num_steps=2`).\n",
        "\n",
        "This dataset is also optimized by running parallel calls and prefetching data."
      ]
    },
    {
      "cell_type": "code",
      "execution_count": null,
      "metadata": {
        "colab": {
          "base_uri": "https://localhost:8080/"
        },
        "id": "ba7bilizt_qW",
        "outputId": "1cf076cb-88b5-4f28-ff75-41784005e553"
      },
      "outputs": [
        {
          "data": {
            "text/plain": [
              "<_PrefetchDataset element_spec=(Trajectory(\n",
              "{'action': TensorSpec(shape=(64, 2), dtype=tf.int64, name=None),\n",
              " 'discount': TensorSpec(shape=(64, 2), dtype=tf.float32, name=None),\n",
              " 'next_step_type': TensorSpec(shape=(64, 2), dtype=tf.int32, name=None),\n",
              " 'observation': TensorSpec(shape=(64, 2, 4), dtype=tf.float32, name=None),\n",
              " 'policy_info': (),\n",
              " 'reward': TensorSpec(shape=(64, 2), dtype=tf.float32, name=None),\n",
              " 'step_type': TensorSpec(shape=(64, 2), dtype=tf.int32, name=None)}), SampleInfo(key=TensorSpec(shape=(64, 2), dtype=tf.uint64, name=None), probability=TensorSpec(shape=(64, 2), dtype=tf.float64, name=None), table_size=TensorSpec(shape=(64, 2), dtype=tf.int64, name=None), priority=TensorSpec(shape=(64, 2), dtype=tf.float64, name=None), times_sampled=TensorSpec(shape=(64, 2), dtype=tf.int32, name=None)))>"
            ]
          },
          "execution_count": 40,
          "metadata": {},
          "output_type": "execute_result"
        }
      ],
      "source": [
        "# Dataset generates trajectories with shape [Bx2x...]\n",
        "dataset = replay_buffer.as_dataset(\n",
        "    num_parallel_calls=3,\n",
        "    sample_batch_size=batch_size,\n",
        "    num_steps=2).prefetch(3)\n",
        "\n",
        "dataset"
      ]
    },
    {
      "cell_type": "code",
      "execution_count": null,
      "metadata": {
        "colab": {
          "base_uri": "https://localhost:8080/"
        },
        "id": "K13AST-2ppOq",
        "outputId": "15444c06-25de-4935-d615-f50c19eee78b"
      },
      "outputs": [
        {
          "name": "stdout",
          "output_type": "stream",
          "text": [
            "<tensorflow.python.data.ops.iterator_ops.OwnedIterator object at 0x7ffa903deca0>\n"
          ]
        }
      ],
      "source": [
        "iterator = iter(dataset)\n",
        "print(iterator)"
      ]
    },
    {
      "cell_type": "markdown",
      "metadata": {
        "id": "hBc9lj9VWWtZ"
      },
      "source": [
        "## Training the agent\n",
        "During training, we will collect data from environment and we will use that collected data to train the agent's network."
      ]
    },
    {
      "cell_type": "code",
      "execution_count": null,
      "metadata": {
        "colab": {
          "base_uri": "https://localhost:8080/"
        },
        "id": "0pTbJ3PeyF-u",
        "outputId": "daef9005-a3a7-4700-8a10-eb320d0fe41f"
      },
      "outputs": [
        {
          "name": "stderr",
          "output_type": "stream",
          "text": [
            "WARNING:tensorflow:From /usr/local/lib/python3.9/dist-packages/tensorflow/python/util/dispatch.py:1176: calling foldr_v2 (from tensorflow.python.ops.functional_ops) with back_prop=False is deprecated and will be removed in a future version.\n",
            "Instructions for updating:\n",
            "back_prop=False is deprecated. Consider using tf.stop_gradient instead.\n",
            "Instead of:\n",
            "results = tf.foldr(fn, elems, back_prop=False)\n",
            "Use:\n",
            "results = tf.nest.map_structure(tf.stop_gradient, tf.foldr(fn, elems))\n"
          ]
        },
        {
          "name": "stdout",
          "output_type": "stream",
          "text": [
            "step = 200: loss = 27.118112564086914\n",
            "step = 400: loss = 4.410116195678711\n",
            "step = 600: loss = 30.38387680053711\n",
            "step = 800: loss = 18.905780792236328\n",
            "step = 1000: loss = 627.7211303710938\n",
            "step = 1000: Average Return = 62.400001525878906\n",
            "step = 1200: loss = 593.2992553710938\n",
            "step = 1400: loss = 645.921630859375\n",
            "step = 1600: loss = 171.90072631835938\n",
            "step = 1800: loss = 797.6475830078125\n",
            "step = 2000: loss = 2577.542724609375\n",
            "step = 2000: Average Return = 155.1999969482422\n",
            "step = 2200: loss = 231.96487426757812\n",
            "step = 2400: loss = 2454.73974609375\n",
            "step = 2600: loss = 229.67132568359375\n",
            "step = 2800: loss = 220.83453369140625\n",
            "step = 3000: loss = 1734.0047607421875\n",
            "step = 3000: Average Return = 172.8000030517578\n",
            "step = 3200: loss = 270.73846435546875\n",
            "step = 3400: loss = 369.5354919433594\n",
            "step = 3600: loss = 210.05812072753906\n",
            "step = 3800: loss = 673.2774047851562\n",
            "step = 4000: loss = 3708.22607421875\n",
            "step = 4000: Average Return = 194.39999389648438\n",
            "step = 4200: loss = 500.3152770996094\n",
            "step = 4400: loss = 797.736328125\n",
            "step = 4600: loss = 324.13970947265625\n",
            "step = 4800: loss = 602.80224609375\n",
            "step = 5000: loss = 510.7572326660156\n",
            "step = 5000: Average Return = 200.0\n",
            "step = 5200: loss = 7609.0380859375\n",
            "step = 5400: loss = 468.8106994628906\n",
            "step = 5600: loss = 445.78155517578125\n",
            "step = 5800: loss = 5352.1767578125\n",
            "step = 6000: loss = 701.4229736328125\n",
            "step = 6000: Average Return = 189.10000610351562\n",
            "step = 6200: loss = 911.2386474609375\n",
            "step = 6400: loss = 421.82867431640625\n",
            "step = 6600: loss = 606.0635986328125\n",
            "step = 6800: loss = 201.70498657226562\n",
            "step = 7000: loss = 821.4662475585938\n",
            "step = 7000: Average Return = 173.60000610351562\n",
            "step = 7200: loss = 222.4603271484375\n",
            "step = 7400: loss = 235.92193603515625\n",
            "step = 7600: loss = 206.29495239257812\n",
            "step = 7800: loss = 248.94024658203125\n",
            "step = 8000: loss = 250.721435546875\n",
            "step = 8000: Average Return = 177.1999969482422\n",
            "step = 8200: loss = 220.91851806640625\n",
            "step = 8400: loss = 264.21453857421875\n",
            "step = 8600: loss = 189.36529541015625\n",
            "step = 8800: loss = 209.8910675048828\n",
            "step = 9000: loss = 575.6735229492188\n",
            "step = 9000: Average Return = 200.0\n",
            "step = 9200: loss = 24974.22265625\n",
            "step = 9400: loss = 261.7762756347656\n",
            "step = 9600: loss = 637.266357421875\n",
            "step = 9800: loss = 523.1041870117188\n",
            "step = 10000: loss = 727.3485107421875\n",
            "step = 10000: Average Return = 200.0\n",
            "step = 10200: loss = 1237.42138671875\n",
            "step = 10400: loss = 1057.1287841796875\n",
            "step = 10600: loss = 4741.1865234375\n",
            "step = 10800: loss = 1324.428466796875\n",
            "step = 11000: loss = 120729.8671875\n",
            "step = 11000: Average Return = 200.0\n",
            "step = 11200: loss = 20237.97265625\n",
            "step = 11400: loss = 1550.6943359375\n",
            "step = 11600: loss = 158789.40625\n",
            "step = 11800: loss = 2362.268310546875\n",
            "step = 12000: loss = 4699.05029296875\n",
            "step = 12000: Average Return = 200.0\n",
            "step = 12200: loss = 1811.1781005859375\n",
            "step = 12400: loss = 1084.109619140625\n",
            "step = 12600: loss = 3062.509033203125\n",
            "step = 12800: loss = 1014.6234741210938\n",
            "step = 13000: loss = 2074.74560546875\n",
            "step = 13000: Average Return = 200.0\n",
            "step = 13200: loss = 830.2490234375\n",
            "step = 13400: loss = 2402.2255859375\n",
            "step = 13600: loss = 1548.1263427734375\n",
            "step = 13800: loss = 860.0117797851562\n",
            "step = 14000: loss = 1115.644775390625\n",
            "step = 14000: Average Return = 200.0\n",
            "step = 14200: loss = 774.32177734375\n",
            "step = 14400: loss = 1285.1912841796875\n",
            "step = 14600: loss = 1477.121337890625\n",
            "step = 14800: loss = 9862.927734375\n",
            "step = 15000: loss = 1867.1378173828125\n",
            "step = 15000: Average Return = 200.0\n",
            "step = 15200: loss = 3667.35791015625\n",
            "step = 15400: loss = 3371.0107421875\n",
            "step = 15600: loss = 1301.94921875\n",
            "step = 15800: loss = 6647.423828125\n",
            "step = 16000: loss = 62821.8046875\n",
            "step = 16000: Average Return = 200.0\n",
            "step = 16200: loss = 146114.734375\n",
            "step = 16400: loss = 1833.6910400390625\n",
            "step = 16600: loss = 1531.64013671875\n",
            "step = 16800: loss = 1004.4542846679688\n",
            "step = 17000: loss = 1789.76220703125\n",
            "step = 17000: Average Return = 200.0\n",
            "step = 17200: loss = 2217.699462890625\n",
            "step = 17400: loss = 1500.8099365234375\n",
            "step = 17600: loss = 60203.6796875\n",
            "step = 17800: loss = 1488.3929443359375\n",
            "step = 18000: loss = 7469.95263671875\n",
            "step = 18000: Average Return = 200.0\n",
            "step = 18200: loss = 1175.1529541015625\n",
            "step = 18400: loss = 1830.2373046875\n",
            "step = 18600: loss = 1875.021484375\n",
            "step = 18800: loss = 238403.5625\n",
            "step = 19000: loss = 1529.627197265625\n",
            "step = 19000: Average Return = 200.0\n",
            "step = 19200: loss = 1330.14892578125\n",
            "step = 19400: loss = 174478.71875\n",
            "step = 19600: loss = 2038.905517578125\n",
            "step = 19800: loss = 6417.36083984375\n",
            "step = 20000: loss = 3502.445068359375\n",
            "step = 20000: Average Return = 200.0\n"
          ]
        }
      ],
      "source": [
        "try:\n",
        "  %%time\n",
        "except:\n",
        "  pass\n",
        "\n",
        "agent.train = common.function(agent.train)\n",
        "\n",
        "# Reset the train step.\n",
        "agent.train_step_counter.assign(0)\n",
        "\n",
        "# Evaluate the agent's policy once before training.\n",
        "avg_return = compute_avg_return(eval_env, agent.policy, num_eval_episodes)\n",
        "returns = [avg_return]\n",
        "\n",
        "# Reset the environment.\n",
        "time_step = train_py_env.reset()\n",
        "\n",
        "# Create a driver to collect experience.\n",
        "collect_driver = py_driver.PyDriver(\n",
        "    env,\n",
        "    py_tf_eager_policy.PyTFEagerPolicy(\n",
        "      agent.collect_policy, use_tf_function=True),\n",
        "    [rb_observer],\n",
        "    max_steps=collect_steps_per_iteration)\n",
        "\n",
        "for _ in range(num_iterations):\n",
        "\n",
        "  # Collect a few steps and save to the replay buffer.\n",
        "  time_step, _ = collect_driver.run(time_step)\n",
        "\n",
        "  # Sample a batch of data from the buffer and update the agent's network.\n",
        "  experience, unused_info = next(iterator)\n",
        "  train_loss = agent.train(experience).loss\n",
        "\n",
        "  step = agent.train_step_counter.numpy()\n",
        "\n",
        "  if step % log_interval == 0:\n",
        "    print('step = {0}: loss = {1}'.format(step, train_loss))\n",
        "\n",
        "  if step % eval_interval == 0:\n",
        "    avg_return = compute_avg_return(eval_env, agent.policy, num_eval_episodes)\n",
        "    print('step = {0}: Average Return = {1}'.format(step, avg_return))\n",
        "    returns.append(avg_return)"
      ]
    },
    {
      "cell_type": "markdown",
      "metadata": {
        "id": "68jNcA_TiJDq"
      },
      "source": [
        "## Visualization\n"
      ]
    },
    {
      "cell_type": "markdown",
      "metadata": {
        "id": "aO-LWCdbbOIC"
      },
      "source": [
        "### Plots\n",
        "\n",
        "One iteration of our game has 200 timesteps. Since each timestep will give 1 reward the maximum reward that can be obtained is 200. Meaning the cartpole stayed upright for 200 timesteps. The graph shows the return increasing to the maximum value of 200."
      ]
    },
    {
      "cell_type": "code",
      "execution_count": 103,
      "metadata": {
        "colab": {
          "base_uri": "https://localhost:8080/",
          "height": 473
        },
        "id": "NxtL1mbOYCVO",
        "outputId": "3f264d4d-2f59-4694-d509-58e25a57db18"
      },
      "outputs": [
        {
          "output_type": "execute_result",
          "data": {
            "text/plain": [
              "(0.08000040054321289, 250.0)"
            ]
          },
          "metadata": {},
          "execution_count": 103
        },
        {
          "output_type": "display_data",
          "data": {
            "text/plain": [
              "<Figure size 640x480 with 1 Axes>"
            ],
            "image/png": "[encoded data removed]"
          },
          "metadata": {}
        }
      ],
      "source": [
        "\n",
        "iterations = range(0, num_iterations + 1, eval_interval)\n",
        "plt.plot(iterations, returns)\n",
        "plt.ylabel('Average Return')\n",
        "plt.xlabel('Iterations')\n",
        "plt.ylim(top=250)"
      ]
    },
    {
      "cell_type": "markdown",
      "metadata": {
        "id": "M7-XpPP99Cy7"
      },
      "source": [
        "### Videos"
      ]
    },
    {
      "cell_type": "markdown",
      "metadata": {
        "id": "9pGfGxSH32gn"
      },
      "source": [
        "This function is a utility to embed videos in notebooks"
      ]
    },
    {
      "cell_type": "code",
      "execution_count": 104,
      "metadata": {
        "id": "ULaGr8pvOKbl"
      },
      "outputs": [],
      "source": [
        "def embed_mp4(filename):\n",
        "  \"\"\"Embeds an mp4 file in the notebook.\"\"\"\n",
        "  video = open(filename,'rb').read()\n",
        "  b64 = base64.b64encode(video)\n",
        "  tag = '''\n",
        "  <video width=\"640\" height=\"480\" controls>\n",
        "    <source src=\"data:video/mp4;base64,{0}\" type=\"video/mp4\">\n",
        "  Your browser does not support the video tag.\n",
        "  </video>'''.format(b64.decode())\n",
        "\n",
        "  return IPython.display.HTML(tag)"
      ]
    },
    {
      "cell_type": "markdown",
      "metadata": {
        "id": "9c_PH-pX4Pr5"
      },
      "source": [
        "Visualization for trained agent"
      ]
    },
    {
      "cell_type": "code",
      "execution_count": null,
      "metadata": {
        "colab": {
          "base_uri": "https://localhost:8080/",
          "height": 539
        },
        "id": "owOVWB158NlF",
        "outputId": "dbe3d251-a47f-41b4-ef54-9f4a9e03a00d"
      },
      "outputs": [
        {
          "name": "stderr",
          "output_type": "stream",
          "text": [
            "WARNING:root:IMAGEIO FFMPEG_WRITER WARNING: input image is not divisible by macro_block_size=16, resizing from (400, 600) to (400, 608) to ensure video compatibility with most codecs and players. To prevent resizing, make your input image divisible by the macro_block_size or set the macro_block_size to None (risking incompatibility). You may also see a FFMPEG warning concerning speedloss due to data not being aligned.\n"
          ]
        },
        {
          "data": {
            "text/html": [
              "\n",
              "  <video width=\"640\" height=\"480\" controls>\n",
              "    <source src=\"data:video/mp4;base64,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\" type=\"video/mp4\">\n",
              "  Your browser does not support the video tag.\n",
              "  </video>"
            ],
            "text/plain": [
              "<IPython.core.display.HTML object>"
            ]
          },
          "execution_count": 46,
          "metadata": {},
          "output_type": "execute_result"
        }
      ],
      "source": [
        "def create_policy_eval_video(policy, filename, num_episodes=5, fps=30):\n",
        "  filename = filename + \".mp4\"\n",
        "  with imageio.get_writer(filename, fps=fps) as video:\n",
        "    for _ in range(num_episodes):\n",
        "      time_step = eval_env.reset()\n",
        "      video.append_data(eval_py_env.render())\n",
        "      while not time_step.is_last():\n",
        "        action_step = policy.action(time_step)\n",
        "        time_step = eval_env.step(action_step.action)\n",
        "        video.append_data(eval_py_env.render())\n",
        "  return embed_mp4(filename)\n",
        "\n",
        "create_policy_eval_video(agent.policy, \"trained-agent\")"
      ]
    },
    {
      "cell_type": "markdown",
      "metadata": {
        "id": "povaAOcZygLw"
      },
      "source": [
        "Visualization for a trained agent"
      ]
    },
    {
      "cell_type": "code",
      "execution_count": null,
      "metadata": {
        "colab": {
          "base_uri": "https://localhost:8080/",
          "height": 539
        },
        "id": "pJZIdC37yNH4",
        "outputId": "eb733793-f6f7-4ce4-b01b-9a8f31863c74"
      },
      "outputs": [
        {
          "name": "stderr",
          "output_type": "stream",
          "text": [
            "WARNING:root:IMAGEIO FFMPEG_WRITER WARNING: input image is not divisible by macro_block_size=16, resizing from (400, 600) to (400, 608) to ensure video compatibility with most codecs and players. To prevent resizing, make your input image divisible by the macro_block_size or set the macro_block_size to None (risking incompatibility). You may also see a FFMPEG warning concerning speedloss due to data not being aligned.\n"
          ]
        },
        {
          "data": {
            "text/html": [
              "\n",
              "  <video width=\"640\" height=\"480\" controls>\n",
              "    <source src=\"data:video/mp4;base64,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\" type=\"video/mp4\">\n",
              "  Your browser does not support the video tag.\n",
              "  </video>"
            ],
            "text/plain": [
              "<IPython.core.display.HTML object>"
            ]
          },
          "execution_count": 48,
          "metadata": {},
          "output_type": "execute_result"
        }
      ],
      "source": [
        "create_policy_eval_video(random_policy, \"random-agent\")"
      ]
    },
    {
      "cell_type": "code",
      "execution_count": null,
      "metadata": {
        "id": "1topBxhr4iyf"
      },
      "outputs": [],
      "source": []
    }
  ],
  "metadata": {
    "colab": {
      "provenance": [],
      "toc_visible": true,
      "include_colab_link": true
    },
    "gpuClass": "standard",
    "kernelspec": {
      "display_name": "Python 3",
      "language": "python",
      "name": "python3"
    },
    "pycharm": {
      "stem_cell": {
        "cell_type": "raw",
        "metadata": {
          "collapsed": false
        },
        "source": []
      }
    }
  },
  "nbformat": 4,
  "nbformat_minor": 0
}