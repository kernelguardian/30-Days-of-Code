{
 "cells": [
  {
   "cell_type": "markdown",
   "metadata": {},
   "source": [
    "# Day 10: Binary Numbers"
   ]
  },
  {
   "cell_type": "code",
   "execution_count": null,
   "metadata": {},
   "outputs": [],
   "source": [
    "Objective \n",
    "Today, we're working with binary numbers. Check out the Tutorial tab for learning materials and an instructional video!\n",
    "\n",
    "Task \n",
    "Given a base- integer, , convert it to binary (base-). Then find and print the base- integer denoting the maximum number of consecutive 's in 's binary representation.\n",
    "\n",
    "Input Format\n",
    "\n",
    "A single integer, .\n",
    "\n",
    "Constraints\n",
    "\n",
    "Output Format\n",
    "\n",
    "Print a single base- integer denoting the maximum number of consecutive 's in the binary representation of .\n",
    "\n",
    "Sample Input 1\n",
    "\n",
    "5\n",
    "Sample Output 1\n",
    "\n",
    "1\n",
    "Sample Input 2\n",
    "\n",
    "13\n",
    "Sample Output 2\n",
    "\n",
    "2\n",
    "Explanation\n",
    "\n",
    "Sample Case 1: \n",
    "The binary representation of  is , so the maximum number of consecutive 's is .\n",
    "\n",
    "Sample Case 2: \n",
    "The binary representation of  is , so the maximum number of consecutive 's is ."
   ]
  },
  {
   "cell_type": "code",
   "execution_count": null,
   "metadata": {},
   "outputs": [],
   "source": [
    "import math\n",
    "import os\n",
    "import random\n",
    "import re\n",
    "import sys\n",
    "\n",
    "\n",
    "\n",
    "if __name__ == '__main__':\n",
    "    n = int(input())\n",
    "    bin_n=list(bin(n)[2:])\n",
    "    #print(type(bin_n),bin_n)\n",
    "    L1=0\n",
    "    L2=0\n",
    "    #bin_n_temp=bin_n\n",
    "    #print(bin_n)\n",
    "    for i in bin_n:\n",
    "        #print(type(i),type('1'))\n",
    "        if(i=='1'):\n",
    "            L1=L1+1\n",
    "            #print('L1',L1)\n",
    "            L2=max(L1,L2)\n",
    "        elif(i=='0'):\n",
    "            #print(\"\\nL2\",L2)\n",
    "            L2=max(L1,L2)\n",
    "            L1=0\n",
    "    print(L2)\n"
   ]
  }
 ],
 "metadata": {
  "kernelspec": {
   "display_name": "Python 3",
   "language": "python",
   "name": "python3"
  },
  "language_info": {
   "codemirror_mode": {
    "name": "ipython",
    "version": 3
   },
   "file_extension": ".py",
   "mimetype": "text/x-python",
   "name": "python",
   "nbconvert_exporter": "python",
   "pygments_lexer": "ipython3",
   "version": "3.7.3"
  }
 },
 "nbformat": 4,
 "nbformat_minor": 2
}
