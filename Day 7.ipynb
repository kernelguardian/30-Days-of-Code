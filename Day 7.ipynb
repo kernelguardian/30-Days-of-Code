{
 "cells": [
  {
   "cell_type": "markdown",
   "metadata": {},
   "source": [
    "# Day 6: Let's Review"
   ]
  },
  {
   "cell_type": "markdown",
   "metadata": {},
   "source": [
    "Objective \n",
    "Today we're expanding our knowledge of Strings and combining it with what we've already learned about loops. Check out the Tutorial tab for learning materials and an instructional video!\n",
    "\n",
    "Task \n",
    "Given a string, , of length  that is indexed from  to , print its even-indexed and odd-indexed characters as  space-separated strings on a single line (see the Sample below for more detail).\n",
    "\n",
    "Note:  is considered to be an even index.\n",
    "\n",
    "Input Format\n",
    "\n",
    "The first line contains an integer,  (the number of test cases). \n",
    "Each line  of the  subsequent lines contain a String, .\n",
    "\n",
    "Constraints\n",
    "\n",
    "Output Format\n",
    "\n",
    "For each String  (where ), print 's even-indexed characters, followed by a space, followed by 's odd-indexed characters.\n",
    "\n",
    "Sample Input\n",
    "\n",
    "2\n",
    "Hacker\n",
    "Rank\n",
    "Sample Output\n",
    "\n",
    "Hce akr\n",
    "Rn ak\n",
    "Explanation\n",
    "\n",
    "Test Case 0:  \n",
    " \n",
    " \n",
    " \n",
    " \n",
    " \n",
    " \n",
    "The even indices are , , and , and the odd indices are , , and . We then print a single line of  space-separated strings; the first string contains the ordered characters from 's even indices (), and the second string contains the ordered characters from 's odd indices ().\n",
    "\n",
    "Test Case 1:  \n",
    " \n",
    " \n",
    " \n",
    " \n",
    "The even indices are  and , and the odd indices are  and . We then print a single line of  space-separated strings; the first string contains the ordered characters from 's even indices (), and the second string contains the ordered characters from 's odd indices ()."
   ]
  },
  {
   "cell_type": "code",
   "execution_count": null,
   "metadata": {},
   "outputs": [],
   "source": [
    "t=int(input())\n",
    "\n",
    "for i in range(0,t):\n",
    "    s=input()\n",
    "    temp=''\n",
    "    for j in range(0,len(s),2):\n",
    "                temp=temp+s[j]\n",
    "    temp=temp+\" \" \n",
    "    for j in range(1,len(s),2):\n",
    "            temp=temp+s[j]\n",
    "    print(temp)\n",
    "#or you could do \n",
    "#for N in range(int(input())):\n",
    "#    S = input()\n",
    "#    print(S[::2], S[1::2])\n",
    "\n"
   ]
  }
 ],
 "metadata": {
  "kernelspec": {
   "display_name": "Python 3",
   "language": "python",
   "name": "python3"
  },
  "language_info": {
   "codemirror_mode": {
    "name": "ipython",
    "version": 3
   },
   "file_extension": ".py",
   "mimetype": "text/x-python",
   "name": "python",
   "nbconvert_exporter": "python",
   "pygments_lexer": "ipython3",
   "version": "3.7.3"
  }
 },
 "nbformat": 4,
 "nbformat_minor": 2
}
